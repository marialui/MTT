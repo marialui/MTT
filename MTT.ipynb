{
 "cells": [
  {
   "cell_type": "code",
   "execution_count": 1,
   "id": "73f088ac",
   "metadata": {},
   "outputs": [],
   "source": [
    "import pandas as pd\n",
    "import numpy as np"
   ]
  },
  {
   "cell_type": "code",
   "execution_count": 2,
   "id": "bc4b509e",
   "metadata": {},
   "outputs": [
    {
     "name": "stdout",
     "output_type": "stream",
     "text": [
      "DOXO_BAIC_MDA231_540.xls                 mda-mb-doxo_baic_06_10_620.xls\r\n",
      "DOXO_BAIC_MDA231_620.xls                 mda-mb-lyco_baic_doxo_11_10_540.xls\r\n",
      "mda-mb-231_lyco_baic_doxo_13_10_540.xls  mda-mb-lyco_baic_doxo_11_10_620.xls\r\n",
      "mda-mb-231_lyco_baic_doxo_13_10_620.xls  MTT.ipynb\r\n",
      "mda-mb-doxo_baic_06_10_540.xls\r\n"
     ]
    }
   ],
   "source": [
    "ls"
   ]
  },
  {
   "cell_type": "code",
   "execution_count": 3,
   "id": "e6840489",
   "metadata": {},
   "outputs": [
    {
     "name": "stdout",
     "output_type": "stream",
     "text": [
      "WARNING *** file size (20729) not 512 + multiple of sector size (512)\n",
      "WARNING *** OLE2 inconsistency: SSCS size is 0 but SSAT size is non-zero\n",
      "WARNING *** file size (20731) not 512 + multiple of sector size (512)\n",
      "WARNING *** OLE2 inconsistency: SSCS size is 0 but SSAT size is non-zero\n"
     ]
    }
   ],
   "source": [
    "data_540= pd.read_excel('mda-mb-231_lyco_baic_doxo_13_10_540.xls',sheet_name='List ; Plates 1 - 1', header=0)\n",
    "data_620= pd.read_excel('mda-mb-231_lyco_baic_doxo_13_10_620.xls',sheet_name='List ; Plates 1 - 1')"
   ]
  },
  {
   "cell_type": "code",
   "execution_count": 4,
   "id": "0ce8a528",
   "metadata": {},
   "outputs": [
    {
     "data": {
      "text/html": [
       "<div>\n",
       "<style scoped>\n",
       "    .dataframe tbody tr th:only-of-type {\n",
       "        vertical-align: middle;\n",
       "    }\n",
       "\n",
       "    .dataframe tbody tr th {\n",
       "        vertical-align: top;\n",
       "    }\n",
       "\n",
       "    .dataframe thead th {\n",
       "        text-align: right;\n",
       "    }\n",
       "</style>\n",
       "<table border=\"1\" class=\"dataframe\">\n",
       "  <thead>\n",
       "    <tr style=\"text-align: right;\">\n",
       "      <th></th>\n",
       "      <th>Plate</th>\n",
       "      <th>Repeat</th>\n",
       "      <th>Well</th>\n",
       "      <th>Type</th>\n",
       "      <th>Time</th>\n",
       "      <th>Absorbance @540 (A)</th>\n",
       "    </tr>\n",
       "  </thead>\n",
       "  <tbody>\n",
       "    <tr>\n",
       "      <th>0</th>\n",
       "      <td>1</td>\n",
       "      <td>1</td>\n",
       "      <td>A01</td>\n",
       "      <td>M</td>\n",
       "      <td>00:00:16.430000</td>\n",
       "      <td>1.970078</td>\n",
       "    </tr>\n",
       "    <tr>\n",
       "      <th>1</th>\n",
       "      <td>1</td>\n",
       "      <td>1</td>\n",
       "      <td>A02</td>\n",
       "      <td>M</td>\n",
       "      <td>00:00:16.750000</td>\n",
       "      <td>2.045007</td>\n",
       "    </tr>\n",
       "    <tr>\n",
       "      <th>2</th>\n",
       "      <td>1</td>\n",
       "      <td>1</td>\n",
       "      <td>A03</td>\n",
       "      <td>M</td>\n",
       "      <td>00:00:17.070000</td>\n",
       "      <td>1.993139</td>\n",
       "    </tr>\n",
       "    <tr>\n",
       "      <th>3</th>\n",
       "      <td>1</td>\n",
       "      <td>1</td>\n",
       "      <td>A04</td>\n",
       "      <td>M</td>\n",
       "      <td>00:00:17.390000</td>\n",
       "      <td>1.947140</td>\n",
       "    </tr>\n",
       "    <tr>\n",
       "      <th>4</th>\n",
       "      <td>1</td>\n",
       "      <td>1</td>\n",
       "      <td>A05</td>\n",
       "      <td>M</td>\n",
       "      <td>00:00:17.710000</td>\n",
       "      <td>1.825711</td>\n",
       "    </tr>\n",
       "  </tbody>\n",
       "</table>\n",
       "</div>"
      ],
      "text/plain": [
       "   Plate  Repeat Well Type             Time  Absorbance @540 (A)\n",
       "0      1       1  A01    M  00:00:16.430000             1.970078\n",
       "1      1       1  A02    M  00:00:16.750000             2.045007\n",
       "2      1       1  A03    M  00:00:17.070000             1.993139\n",
       "3      1       1  A04    M  00:00:17.390000             1.947140\n",
       "4      1       1  A05    M  00:00:17.710000             1.825711"
      ]
     },
     "execution_count": 4,
     "metadata": {},
     "output_type": "execute_result"
    }
   ],
   "source": [
    "data_540.head()"
   ]
  },
  {
   "cell_type": "code",
   "execution_count": 5,
   "id": "c0a716d6",
   "metadata": {},
   "outputs": [
    {
     "data": {
      "text/html": [
       "<div>\n",
       "<style scoped>\n",
       "    .dataframe tbody tr th:only-of-type {\n",
       "        vertical-align: middle;\n",
       "    }\n",
       "\n",
       "    .dataframe tbody tr th {\n",
       "        vertical-align: top;\n",
       "    }\n",
       "\n",
       "    .dataframe thead th {\n",
       "        text-align: right;\n",
       "    }\n",
       "</style>\n",
       "<table border=\"1\" class=\"dataframe\">\n",
       "  <thead>\n",
       "    <tr style=\"text-align: right;\">\n",
       "      <th></th>\n",
       "      <th>Plate</th>\n",
       "      <th>Repeat</th>\n",
       "      <th>Well</th>\n",
       "      <th>Type</th>\n",
       "      <th>Time</th>\n",
       "      <th>Absorbance @620 (A)</th>\n",
       "    </tr>\n",
       "  </thead>\n",
       "  <tbody>\n",
       "    <tr>\n",
       "      <th>0</th>\n",
       "      <td>1</td>\n",
       "      <td>1</td>\n",
       "      <td>A01</td>\n",
       "      <td>M</td>\n",
       "      <td>00:00:13.430000</td>\n",
       "      <td>0.656798</td>\n",
       "    </tr>\n",
       "    <tr>\n",
       "      <th>1</th>\n",
       "      <td>1</td>\n",
       "      <td>1</td>\n",
       "      <td>A02</td>\n",
       "      <td>M</td>\n",
       "      <td>00:00:13.750000</td>\n",
       "      <td>0.808821</td>\n",
       "    </tr>\n",
       "    <tr>\n",
       "      <th>2</th>\n",
       "      <td>1</td>\n",
       "      <td>1</td>\n",
       "      <td>A03</td>\n",
       "      <td>M</td>\n",
       "      <td>00:00:14.070000</td>\n",
       "      <td>0.669583</td>\n",
       "    </tr>\n",
       "    <tr>\n",
       "      <th>3</th>\n",
       "      <td>1</td>\n",
       "      <td>1</td>\n",
       "      <td>A04</td>\n",
       "      <td>M</td>\n",
       "      <td>00:00:14.390000</td>\n",
       "      <td>0.660793</td>\n",
       "    </tr>\n",
       "    <tr>\n",
       "      <th>4</th>\n",
       "      <td>1</td>\n",
       "      <td>1</td>\n",
       "      <td>A05</td>\n",
       "      <td>M</td>\n",
       "      <td>00:00:14.710000</td>\n",
       "      <td>0.620000</td>\n",
       "    </tr>\n",
       "  </tbody>\n",
       "</table>\n",
       "</div>"
      ],
      "text/plain": [
       "   Plate  Repeat Well Type             Time  Absorbance @620 (A)\n",
       "0      1       1  A01    M  00:00:13.430000             0.656798\n",
       "1      1       1  A02    M  00:00:13.750000             0.808821\n",
       "2      1       1  A03    M  00:00:14.070000             0.669583\n",
       "3      1       1  A04    M  00:00:14.390000             0.660793\n",
       "4      1       1  A05    M  00:00:14.710000             0.620000"
      ]
     },
     "execution_count": 5,
     "metadata": {},
     "output_type": "execute_result"
    }
   ],
   "source": [
    "data_620.head()"
   ]
  },
  {
   "cell_type": "code",
   "execution_count": 6,
   "id": "69405713",
   "metadata": {},
   "outputs": [],
   "source": [
    "Data=pd.concat([data_540['Absorbance @540 (A)'], data_620['Absorbance @620 (A)']], axis=1)"
   ]
  },
  {
   "cell_type": "code",
   "execution_count": 7,
   "id": "bbfe7cce",
   "metadata": {},
   "outputs": [
    {
     "data": {
      "text/html": [
       "<div>\n",
       "<style scoped>\n",
       "    .dataframe tbody tr th:only-of-type {\n",
       "        vertical-align: middle;\n",
       "    }\n",
       "\n",
       "    .dataframe tbody tr th {\n",
       "        vertical-align: top;\n",
       "    }\n",
       "\n",
       "    .dataframe thead th {\n",
       "        text-align: right;\n",
       "    }\n",
       "</style>\n",
       "<table border=\"1\" class=\"dataframe\">\n",
       "  <thead>\n",
       "    <tr style=\"text-align: right;\">\n",
       "      <th></th>\n",
       "      <th>Absorbance @540 (A)</th>\n",
       "      <th>Absorbance @620 (A)</th>\n",
       "      <th>Difference</th>\n",
       "    </tr>\n",
       "  </thead>\n",
       "  <tbody>\n",
       "    <tr>\n",
       "      <th>0</th>\n",
       "      <td>1.970078</td>\n",
       "      <td>0.656798</td>\n",
       "      <td>1.313280</td>\n",
       "    </tr>\n",
       "    <tr>\n",
       "      <th>1</th>\n",
       "      <td>2.045007</td>\n",
       "      <td>0.808821</td>\n",
       "      <td>1.236187</td>\n",
       "    </tr>\n",
       "    <tr>\n",
       "      <th>2</th>\n",
       "      <td>1.993139</td>\n",
       "      <td>0.669583</td>\n",
       "      <td>1.323555</td>\n",
       "    </tr>\n",
       "    <tr>\n",
       "      <th>3</th>\n",
       "      <td>1.947140</td>\n",
       "      <td>0.660793</td>\n",
       "      <td>1.286347</td>\n",
       "    </tr>\n",
       "    <tr>\n",
       "      <th>4</th>\n",
       "      <td>1.825711</td>\n",
       "      <td>0.620000</td>\n",
       "      <td>1.205710</td>\n",
       "    </tr>\n",
       "  </tbody>\n",
       "</table>\n",
       "</div>"
      ],
      "text/plain": [
       "   Absorbance @540 (A)  Absorbance @620 (A)  Difference\n",
       "0             1.970078             0.656798    1.313280\n",
       "1             2.045007             0.808821    1.236187\n",
       "2             1.993139             0.669583    1.323555\n",
       "3             1.947140             0.660793    1.286347\n",
       "4             1.825711             0.620000    1.205710"
      ]
     },
     "execution_count": 7,
     "metadata": {},
     "output_type": "execute_result"
    }
   ],
   "source": [
    "Data['Difference']=Data['Absorbance @540 (A)']-data_620['Absorbance @620 (A)']\n",
    "Data.head()"
   ]
  },
  {
   "cell_type": "code",
   "execution_count": 8,
   "id": "2eddf2a7",
   "metadata": {},
   "outputs": [],
   "source": [
    "Data=Data[Data['Difference']>0.1]\n"
   ]
  },
  {
   "cell_type": "code",
   "execution_count": 9,
   "id": "e166cf1a",
   "metadata": {},
   "outputs": [
    {
     "name": "stderr",
     "output_type": "stream",
     "text": [
      "/tmp/ipykernel_21965/3583868716.py:12: SettingWithCopyWarning: \n",
      "A value is trying to be set on a copy of a slice from a DataFrame.\n",
      "Try using .loc[row_indexer,col_indexer] = value instead\n",
      "\n",
      "See the caveats in the documentation: https://pandas.pydata.org/pandas-docs/stable/user_guide/indexing.html#returning-a-view-versus-a-copy\n",
      "  Data.iloc[i-3:i]['Mean Difference']=reject_outliers_2(data_tmp['Difference'],m=2).mean()\n",
      "/home/maria/anaconda3/lib/python3.9/site-packages/numpy/core/fromnumeric.py:3419: RuntimeWarning: Mean of empty slice.\n",
      "  return _methods._mean(a, axis=axis, dtype=dtype,\n",
      "/home/maria/anaconda3/lib/python3.9/site-packages/numpy/core/_methods.py:188: RuntimeWarning: invalid value encountered in double_scalars\n",
      "  ret = ret.dtype.type(ret / rcount)\n"
     ]
    }
   ],
   "source": [
    "Data['Mean Difference']=np.nan\n",
    "\n",
    "def reject_outliers_2(data, m=2):\n",
    "    d = np.abs(data - np.median(data))\n",
    "    mdev = np.median(d)\n",
    "    s = d / (mdev if mdev else 1.)\n",
    "    return data[s < m]\n",
    "\n",
    "for i in range (3,96,3):\n",
    "    data_tmp=Data.iloc[i-3:i,::]\n",
    "   # print(data_tmp['Difference'])\n",
    "    Data.iloc[i-3:i]['Mean Difference']=reject_outliers_2(data_tmp['Difference'],m=2).mean()"
   ]
  },
  {
   "cell_type": "code",
   "execution_count": 10,
   "id": "b1524f49",
   "metadata": {},
   "outputs": [
    {
     "data": {
      "text/html": [
       "<div>\n",
       "<style scoped>\n",
       "    .dataframe tbody tr th:only-of-type {\n",
       "        vertical-align: middle;\n",
       "    }\n",
       "\n",
       "    .dataframe tbody tr th {\n",
       "        vertical-align: top;\n",
       "    }\n",
       "\n",
       "    .dataframe thead th {\n",
       "        text-align: right;\n",
       "    }\n",
       "</style>\n",
       "<table border=\"1\" class=\"dataframe\">\n",
       "  <thead>\n",
       "    <tr style=\"text-align: right;\">\n",
       "      <th></th>\n",
       "      <th>Absorbance @540 (A)</th>\n",
       "      <th>Absorbance @620 (A)</th>\n",
       "      <th>Difference</th>\n",
       "      <th>Mean Difference</th>\n",
       "    </tr>\n",
       "  </thead>\n",
       "  <tbody>\n",
       "    <tr>\n",
       "      <th>0</th>\n",
       "      <td>1.970078</td>\n",
       "      <td>0.656798</td>\n",
       "      <td>1.313280</td>\n",
       "      <td>1.318418</td>\n",
       "    </tr>\n",
       "    <tr>\n",
       "      <th>1</th>\n",
       "      <td>2.045007</td>\n",
       "      <td>0.808821</td>\n",
       "      <td>1.236187</td>\n",
       "      <td>1.318418</td>\n",
       "    </tr>\n",
       "    <tr>\n",
       "      <th>2</th>\n",
       "      <td>1.993139</td>\n",
       "      <td>0.669583</td>\n",
       "      <td>1.323555</td>\n",
       "      <td>1.318418</td>\n",
       "    </tr>\n",
       "    <tr>\n",
       "      <th>3</th>\n",
       "      <td>1.947140</td>\n",
       "      <td>0.660793</td>\n",
       "      <td>1.286347</td>\n",
       "      <td>1.300985</td>\n",
       "    </tr>\n",
       "    <tr>\n",
       "      <th>4</th>\n",
       "      <td>1.825711</td>\n",
       "      <td>0.620000</td>\n",
       "      <td>1.205710</td>\n",
       "      <td>1.300985</td>\n",
       "    </tr>\n",
       "  </tbody>\n",
       "</table>\n",
       "</div>"
      ],
      "text/plain": [
       "   Absorbance @540 (A)  Absorbance @620 (A)  Difference  Mean Difference\n",
       "0             1.970078             0.656798    1.313280         1.318418\n",
       "1             2.045007             0.808821    1.236187         1.318418\n",
       "2             1.993139             0.669583    1.323555         1.318418\n",
       "3             1.947140             0.660793    1.286347         1.300985\n",
       "4             1.825711             0.620000    1.205710         1.300985"
      ]
     },
     "execution_count": 10,
     "metadata": {},
     "output_type": "execute_result"
    }
   ],
   "source": [
    "Data.head()"
   ]
  },
  {
   "cell_type": "code",
   "execution_count": 11,
   "id": "b4b3bb58",
   "metadata": {},
   "outputs": [],
   "source": [
    "\n",
    "df = Data.groupby(Data.index // 3).mean()\n",
    "df=df[df['Mean Difference']>0.1]\n",
    "IN=['CTRL_1','LYCO 2,5','LYCO 5','LYCO 10','LYCO 15','CTRL_2','BAIC 40 micr/M','BAIC 80 micr/M','BAIC 160 micr/M','BAIC 320 micr/M','CTRL_3','DOXO 4 micr/M','DOXO 8 micr/M','DOXO 16 micr/M','DOXO 32 micr/M']\n",
    "df['indices']=IN\n",
    "df.set_index('indices',inplace=True)"
   ]
  },
  {
   "cell_type": "code",
   "execution_count": 12,
   "id": "e56be87d",
   "metadata": {},
   "outputs": [
    {
     "data": {
      "text/html": [
       "<div>\n",
       "<style scoped>\n",
       "    .dataframe tbody tr th:only-of-type {\n",
       "        vertical-align: middle;\n",
       "    }\n",
       "\n",
       "    .dataframe tbody tr th {\n",
       "        vertical-align: top;\n",
       "    }\n",
       "\n",
       "    .dataframe thead th {\n",
       "        text-align: right;\n",
       "    }\n",
       "</style>\n",
       "<table border=\"1\" class=\"dataframe\">\n",
       "  <thead>\n",
       "    <tr style=\"text-align: right;\">\n",
       "      <th></th>\n",
       "      <th>Absorbance @540 (A)</th>\n",
       "      <th>Absorbance @620 (A)</th>\n",
       "      <th>Difference</th>\n",
       "      <th>Mean Difference</th>\n",
       "      <th>Vitalità</th>\n",
       "    </tr>\n",
       "    <tr>\n",
       "      <th>indices</th>\n",
       "      <th></th>\n",
       "      <th></th>\n",
       "      <th></th>\n",
       "      <th></th>\n",
       "      <th></th>\n",
       "    </tr>\n",
       "  </thead>\n",
       "  <tbody>\n",
       "    <tr>\n",
       "      <th>CTRL_1</th>\n",
       "      <td>2.002741</td>\n",
       "      <td>0.711734</td>\n",
       "      <td>1.291007</td>\n",
       "      <td>1.318418</td>\n",
       "      <td>100.000000</td>\n",
       "    </tr>\n",
       "    <tr>\n",
       "      <th>LYCO 2,5</th>\n",
       "      <td>1.907627</td>\n",
       "      <td>0.638400</td>\n",
       "      <td>1.269227</td>\n",
       "      <td>1.300985</td>\n",
       "      <td>98.677733</td>\n",
       "    </tr>\n",
       "    <tr>\n",
       "      <th>LYCO 5</th>\n",
       "      <td>1.903235</td>\n",
       "      <td>0.632290</td>\n",
       "      <td>1.270945</td>\n",
       "      <td>1.247067</td>\n",
       "      <td>94.588184</td>\n",
       "    </tr>\n",
       "    <tr>\n",
       "      <th>LYCO 10</th>\n",
       "      <td>1.863341</td>\n",
       "      <td>0.610098</td>\n",
       "      <td>1.253243</td>\n",
       "      <td>1.266901</td>\n",
       "      <td>96.092520</td>\n",
       "    </tr>\n",
       "    <tr>\n",
       "      <th>LYCO 15</th>\n",
       "      <td>1.683077</td>\n",
       "      <td>0.597604</td>\n",
       "      <td>1.085473</td>\n",
       "      <td>1.108342</td>\n",
       "      <td>84.066044</td>\n",
       "    </tr>\n",
       "  </tbody>\n",
       "</table>\n",
       "</div>"
      ],
      "text/plain": [
       "          Absorbance @540 (A)  Absorbance @620 (A)  Difference  \\\n",
       "indices                                                          \n",
       "CTRL_1               2.002741             0.711734    1.291007   \n",
       "LYCO 2,5             1.907627             0.638400    1.269227   \n",
       "LYCO 5               1.903235             0.632290    1.270945   \n",
       "LYCO 10              1.863341             0.610098    1.253243   \n",
       "LYCO 15              1.683077             0.597604    1.085473   \n",
       "\n",
       "          Mean Difference    Vitalità  \n",
       "indices                                \n",
       "CTRL_1           1.318418  100.000000  \n",
       "LYCO 2,5         1.300985   98.677733  \n",
       "LYCO 5           1.247067   94.588184  \n",
       "LYCO 10          1.266901   96.092520  \n",
       "LYCO 15          1.108342   84.066044  "
      ]
     },
     "execution_count": 12,
     "metadata": {},
     "output_type": "execute_result"
    }
   ],
   "source": [
    "vitality=[]\n",
    "for i in df.index:\n",
    "    if 'CTRL' in i:\n",
    "        ctrl=i\n",
    "    vit=(df['Mean Difference'][i]*100)/df['Mean Difference'][ctrl]\n",
    "    vitality.append(vit)\n",
    "df['Vitalità']=vitality\n",
    "df.head()"
   ]
  },
  {
   "cell_type": "code",
   "execution_count": 13,
   "id": "539c5470",
   "metadata": {},
   "outputs": [
    {
     "data": {
      "image/png": "[encoded data removed]",
      "text/plain": [
       "<Figure size 432x288 with 1 Axes>"
      ]
     },
     "metadata": {
      "needs_background": "light"
     },
     "output_type": "display_data"
    }
   ],
   "source": [
    "ax_lyco = df.iloc[:5,::].plot.bar(y='Vitalità', rot=45)\n"
   ]
  },
  {
   "cell_type": "code",
   "execution_count": 14,
   "id": "8d7d89c0",
   "metadata": {},
   "outputs": [
    {
     "data": {
      "image/png": "[encoded data removed]",
      "text/plain": [
       "<Figure size 432x288 with 1 Axes>"
      ]
     },
     "metadata": {
      "needs_background": "light"
     },
     "output_type": "display_data"
    }
   ],
   "source": [
    "ax_Baic = df.iloc[5:10,::].plot.bar(y='Vitalità', rot=45)"
   ]
  },
  {
   "cell_type": "code",
   "execution_count": 15,
   "id": "001bc3f1",
   "metadata": {},
   "outputs": [
    {
     "data": {
      "image/png": "[encoded data removed]",
      "text/plain": [
       "<Figure size 432x288 with 1 Axes>"
      ]
     },
     "metadata": {
      "needs_background": "light"
     },
     "output_type": "display_data"
    }
   ],
   "source": [
    "ax_doxo = df.iloc[10:,::].plot.bar(y='Vitalità', rot=45)"
   ]
  }
 ],
 "metadata": {
  "kernelspec": {
   "display_name": "base",
   "language": "python",
   "name": "myenv"
  },
  "language_info": {
   "codemirror_mode": {
    "name": "ipython",
    "version": 3
   },
   "file_extension": ".py",
   "mimetype": "text/x-python",
   "name": "python",
   "nbconvert_exporter": "python",
   "pygments_lexer": "ipython3",
   "version": "3.9.7"
  }
 },
 "nbformat": 4,
 "nbformat_minor": 5
}
